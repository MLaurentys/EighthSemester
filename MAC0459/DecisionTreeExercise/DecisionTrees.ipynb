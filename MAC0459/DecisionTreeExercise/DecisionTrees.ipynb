{
 "cells": [
  {
   "cell_type": "markdown",
   "metadata": {},
   "source": [
    "# Exercise List \n",
    "## MAC0459 - 2019/2\n",
    "### Matheus Tararam de Laurentys - 9793714\n"
   ]
  },
  {
   "cell_type": "markdown",
   "metadata": {},
   "source": [
    "## E1)\n",
    "Assuming that the decision tree does not have a maximum depth and the minimum samples required to split a node is two, then the decision tree will grow until all leaves are one single instance, of the 10million available. The average height (as some branches might have larger or lower height) is the smallest power of two that is greater than 10million, which is 24 (since 2<sup>23</sup> <10million < 2<sup>24</sup>). This happens because the amount of leaves in a given height k is 2<sup>k</sup>."
   ]
  },
  {
   "cell_type": "markdown",
   "metadata": {},
   "source": [
    "## E2)\n",
    "Any node's GINI impurity is always lower than that of its parent. \n",
    "\n",
    "If a node has n datapoints distributed across k classes with each probability p<sub>k</sub> (sum of p<sub>i</sub> for i in [k] equals 1) and size $a_i$, then its GINI rate G is:\n",
    "$$ G = \\sum_{i=1}^{k}p_i * (1-p_i) \\\\\n",
    "   G = 1 - (a_1/a_{[k]})^2 - (a_2/a_{[k]})^2 - \\dots - (a_k/a_{[k]})^2\n",
    "$$\n",
    "Now, one of the children after the split, we have n-d instances and at most k classes with new probability p' and $d_i = a_i-a'_i$.\n",
    "$$ G' = \\sum_{i=1}^{k}p'_i * (1-p'_i) \\\\\n",
    "   G' = 1 - (a'_1/(a_{[k]} - d_{[k]}))^2 - (a'_2/(a_{[k]} - d_{[k]}))^2 - \\dots - (a'_k/(a_{[k]} - d_{[k]}))^2\n",
    "$$\n",
    "With some algebraic work $G - G' > 0$ if $d>0$:\n",
    "$$\n",
    "\\begin{align}\n",
    "    G - G' =& \\sum^k_{i=1} a_i^2/a_{[k]}^2 - (a_i^2 - 2a_id_i + d_i^2)/(a_{[k]}^2 - 2a_{[k]}d_{[k]} + d_{[k]}^2) \\\\\n",
    "    =& \\sum^k_{i=1} (a_i^2*(a_{[k]}^2 - 2a_{[k]}d + d^2) - a^2_{[k]}*(a_i^2 - 2a_id_i + d_i^2))/(a_{[k]}^4 - 2a^3_{[k]}d + a^2_{[k]}d^2) \\\\\n",
    "    =& 1/(a_{[k]}^4 - 2a^3_{[k]}d + a^2_{[k]}d^2) * \\sum^k_{i=1}a_i^2*(a_{[k]}^2 - 2a_{[k]}d + d^2) - a^2_{[k]}*(a_i^2 - 2a_id_i + d_i^2) \\\\\n",
    "    =& C * \\sum^k_{i=1} a_i^2*(- 2a_{[k]}d + d^2) - a^2_{[k]}*(- 2a_id_i + d_i^2), C>0 (easy)\\\\\n",
    "    =& C * ((- 2a_{[k]}d + d^2) * (a_1^2 + \\dots + a_k^2)  - (a^2_{[k]})*(-2(a_1d_1 + \\dots + a_kd_k) + (d_1^2 + \\dots + d_k^2))) \\\\\n",
    "    =& C * ((d^2 * (a_1^2 + \\dots + a_k^2)  + a^2_{[k]}*(2(a_{[k]}*d)) - a^2_{[k]}*(d_1^2 + \\dots + d_k^2) - 2a_{[k]}d* (a_1^2 + \\dots + a_k^2) ) \\\\\n",
    "    =& C * (2*a_{[k]}*d * (a^2_{[k]} - (a_1^2 + \\dots + a_k^2)) + (d^2 * (a_1^2 + \\dots + a_k^2) - a^2_{[k]}*(d_1^2 + \\dots + d_k^2))\\\\\n",
    "    \\ge& C * (2*a_{[k]}*d * (a^2_{[k]} - (a_1^2 + \\dots + a_k^2)) + (d^2 * (a_1^2 + \\dots + a_k^2) - a^2_{[k]}*d^2) \\\\\n",
    "    \\ge& C * (2*d^2 * (a^2_{[k]} - (a_1^2 + \\dots + a_k^2)) + (d^2 * ((a_1^2 + \\dots + a_k^2) - a^2_{[k]})) \\\\\n",
    "    \\ge& C * (2*d^2 * (a^2_{[k]} - (a_1^2 + \\dots + a_k^2)) - (d^2 * ((a^2_{[k]}) - (a_1^2 + \\dots + a_k^2))) \\\\\n",
    "    \\ge& C * (d^2 * (a^2_{[k]} - (a_1^2 + \\dots + a_k^2))) > 0\\\\\n",
    "\\end{align}\n",
    "$$\n",
    "Given \n",
    "$$\n",
    "    p_i = a_i/a_{[k]} \\\\\n",
    "    \\sum_{i=1}^{k}a'_i - a_i = d \\\\\n",
    "    a_{[k]} = \\sum_{i=1}^{k}a_i \\\\\n",
    "    d = d_{[k]}\n",
    "$$"
   ]
  },
  {
   "cell_type": "markdown",
   "metadata": {},
   "source": [
    "## E3)\n",
    "It can be a good idea to reduce the max height of the decision tree. Decisions' trees split the result into two groups in every level, so, if a given tree is too specific, it might mean (could suggest other problems, however) that it is dividing in too many different groups.If a tree is trained in such a way, it might place samples (from other data) that are very similar (in an 'actual' same group) in different groups. Reducinng the height will make the tree less specific (less groups) and, therefore, more general, so, if the overfit was caused by the height, it will probably solve the issue."
   ]
  },
  {
   "cell_type": "markdown",
   "metadata": {},
   "source": [
    "## E4)\n",
    "Underfitting in decision tree is measured by the impurity gain with each node. However, in decision trees, the euclidian distance between samples of the data does not matter for the immpurity calculation. Therefore, it should not solve the underfitting problem."
   ]
  },
  {
   "cell_type": "markdown",
   "metadata": {},
   "source": [
    "## E5)\n",
    "If we take the usual time complexity for a decision tree, we know the algorithm is $O(N^2klogN)$ where N is the number of samples. Therefore, the time spent will be roughly 1143 hours since\n",
    "$$\n",
    "\\frac{100,000,000^2\\cdot\\log\\left(100,000,000\\right)}{10,000,000^2\\cdot\\log\\left(10,000,000\\right)} = 1,142.857143\n",
    "$$"
   ]
  },
  {
   "cell_type": "markdown",
   "metadata": {},
   "source": [
    "## E6)\n",
    "---------------\n",
    "### EDA:\n",
    "This dataset is composed of medical measurements, basic personal information and some profiling of habbits. I will make sure the distribution of age, gender and weight are what expected."
   ]
  },
  {
   "cell_type": "code",
   "execution_count": 5,
   "metadata": {},
   "outputs": [],
   "source": [
    "import numpy as np\n",
    "import pandas as pd\n",
    "import matplotlib.pyplot as plt\n",
    "from IPython.core.debugger import set_trace\n",
    "from enum import Enum\n",
    "\n",
    "plt.rcParams.update({'font.size' : 30})\n",
    "\n",
    "def barplot(df, col_name):\n",
    "    name = \"Distribution of \" + col_name\n",
    "    ax = df[col_name].value_counts().plot(kind='bar', figsize=(30,8), title=name)\n",
    "def distPlot(df, col_name, limits, fun):\n",
    "    name = \"Distribution of \" + col_name\n",
    "    years = df[col_name].apply(fun)\n",
    "    ax = years.plot.kde(title=name)\n",
    "    ax.set_xlim(limits[0], limits[1])"
   ]
  },
  {
   "cell_type": "code",
   "execution_count": 6,
   "metadata": {},
   "outputs": [],
   "source": [
    "data_raw = pd.read_csv(\"cardio_train.csv\", sep=\";\")\n",
    "data_test = data_raw[0 : data_raw.shape[0] : 50]"
   ]
  },
  {
   "cell_type": "code",
   "execution_count": 7,
   "metadata": {},
   "outputs": [
    {
     "data": {
      "text/html": [
       "<div>\n",
       "<style scoped>\n",
       "    .dataframe tbody tr th:only-of-type {\n",
       "        vertical-align: middle;\n",
       "    }\n",
       "\n",
       "    .dataframe tbody tr th {\n",
       "        vertical-align: top;\n",
       "    }\n",
       "\n",
       "    .dataframe thead th {\n",
       "        text-align: right;\n",
       "    }\n",
       "</style>\n",
       "<table border=\"1\" class=\"dataframe\">\n",
       "  <thead>\n",
       "    <tr style=\"text-align: right;\">\n",
       "      <th></th>\n",
       "      <th>id</th>\n",
       "      <th>age</th>\n",
       "      <th>gender</th>\n",
       "      <th>height</th>\n",
       "      <th>weight</th>\n",
       "      <th>ap_hi</th>\n",
       "      <th>ap_lo</th>\n",
       "      <th>cholesterol</th>\n",
       "      <th>gluc</th>\n",
       "      <th>smoke</th>\n",
       "      <th>alco</th>\n",
       "      <th>active</th>\n",
       "      <th>cardio</th>\n",
       "    </tr>\n",
       "  </thead>\n",
       "  <tbody>\n",
       "    <tr>\n",
       "      <th>0</th>\n",
       "      <td>0</td>\n",
       "      <td>18393</td>\n",
       "      <td>2</td>\n",
       "      <td>168</td>\n",
       "      <td>62.0</td>\n",
       "      <td>110</td>\n",
       "      <td>80</td>\n",
       "      <td>1</td>\n",
       "      <td>1</td>\n",
       "      <td>0</td>\n",
       "      <td>0</td>\n",
       "      <td>1</td>\n",
       "      <td>0</td>\n",
       "    </tr>\n",
       "    <tr>\n",
       "      <th>1</th>\n",
       "      <td>1</td>\n",
       "      <td>20228</td>\n",
       "      <td>1</td>\n",
       "      <td>156</td>\n",
       "      <td>85.0</td>\n",
       "      <td>140</td>\n",
       "      <td>90</td>\n",
       "      <td>3</td>\n",
       "      <td>1</td>\n",
       "      <td>0</td>\n",
       "      <td>0</td>\n",
       "      <td>1</td>\n",
       "      <td>1</td>\n",
       "    </tr>\n",
       "    <tr>\n",
       "      <th>2</th>\n",
       "      <td>2</td>\n",
       "      <td>18857</td>\n",
       "      <td>1</td>\n",
       "      <td>165</td>\n",
       "      <td>64.0</td>\n",
       "      <td>130</td>\n",
       "      <td>70</td>\n",
       "      <td>3</td>\n",
       "      <td>1</td>\n",
       "      <td>0</td>\n",
       "      <td>0</td>\n",
       "      <td>0</td>\n",
       "      <td>1</td>\n",
       "    </tr>\n",
       "    <tr>\n",
       "      <th>3</th>\n",
       "      <td>3</td>\n",
       "      <td>17623</td>\n",
       "      <td>2</td>\n",
       "      <td>169</td>\n",
       "      <td>82.0</td>\n",
       "      <td>150</td>\n",
       "      <td>100</td>\n",
       "      <td>1</td>\n",
       "      <td>1</td>\n",
       "      <td>0</td>\n",
       "      <td>0</td>\n",
       "      <td>1</td>\n",
       "      <td>1</td>\n",
       "    </tr>\n",
       "    <tr>\n",
       "      <th>4</th>\n",
       "      <td>4</td>\n",
       "      <td>17474</td>\n",
       "      <td>1</td>\n",
       "      <td>156</td>\n",
       "      <td>56.0</td>\n",
       "      <td>100</td>\n",
       "      <td>60</td>\n",
       "      <td>1</td>\n",
       "      <td>1</td>\n",
       "      <td>0</td>\n",
       "      <td>0</td>\n",
       "      <td>0</td>\n",
       "      <td>0</td>\n",
       "    </tr>\n",
       "  </tbody>\n",
       "</table>\n",
       "</div>"
      ],
      "text/plain": [
       "   id    age  gender  height  weight  ap_hi  ap_lo  cholesterol  gluc  smoke  \\\n",
       "0   0  18393       2     168    62.0    110     80            1     1      0   \n",
       "1   1  20228       1     156    85.0    140     90            3     1      0   \n",
       "2   2  18857       1     165    64.0    130     70            3     1      0   \n",
       "3   3  17623       2     169    82.0    150    100            1     1      0   \n",
       "4   4  17474       1     156    56.0    100     60            1     1      0   \n",
       "\n",
       "   alco  active  cardio  \n",
       "0     0       1       0  \n",
       "1     0       1       1  \n",
       "2     0       0       1  \n",
       "3     0       1       1  \n",
       "4     0       0       0  "
      ]
     },
     "execution_count": 7,
     "metadata": {},
     "output_type": "execute_result"
    }
   ],
   "source": [
    "data_raw.head()"
   ]
  },
  {
   "cell_type": "code",
   "execution_count": 8,
   "metadata": {},
   "outputs": [
    {
     "data": {
      "image/png": "[encoded data removed]",
      "text/plain": [
       "<Figure size 2160x576 with 1 Axes>"
      ]
     },
     "metadata": {
      "needs_background": "light"
     },
     "output_type": "display_data"
    },
    {
     "data": {
      "image/png": "[encoded data removed]",
      "text/plain": [
       "<Figure size 432x288 with 1 Axes>"
      ]
     },
     "metadata": {
      "needs_background": "light"
     },
     "output_type": "display_data"
    },
    {
     "data": {
      "image/png": "[encoded data removed]",
      "text/plain": [
       "<Figure size 432x288 with 1 Axes>"
      ]
     },
     "metadata": {
      "needs_background": "light"
     },
     "output_type": "display_data"
    }
   ],
   "source": [
    "barplot(data_raw, 'gender')\n",
    "plt.show()\n",
    "\n",
    "distPlot(data_raw, \"weight\", [0, 200], lambda x: x)\n",
    "plt.show()\n",
    "\n",
    "distPlot(data_raw, \"age\", [25, 75], lambda x: int(x/365))\n",
    "plt.show()"
   ]
  },
  {
   "cell_type": "markdown",
   "metadata": {},
   "source": [
    "Since I am cannot make a good guess of what the other parameters should look like, I think refraining from analysing them is harmless. From what we see, there is a definite age range and that is expected because heart deseases do happen much more frequently at those ages. The distribution of weight seems normal as well. As of the gender, there is a clear difference, with many more women. In one side, it is weird because there should be the same number of men and women, however, women are more prone to getting treatment and have a higher life expectancy, so, in some way, this difference is accounted for.\n",
    "I think the dataset does not contain abnormalities, so, for now, nothing will be filtered.\n",
    "\n",
    "## Decision Tree"
   ]
  },
  {
   "cell_type": "code",
   "execution_count": 12,
   "metadata": {},
   "outputs": [],
   "source": [
    "from sklearn import tree\n",
    "from sklearn.model_selection import train_test_split\n",
    "from sklearn.metrics import accuracy_score\n",
    "import graphviz\n",
    "from IPython.display import Image\n",
    "import pydotplus"
   ]
  },
  {
   "cell_type": "code",
   "execution_count": 14,
   "metadata": {},
   "outputs": [
    {
     "ename": "SyntaxError",
     "evalue": "invalid syntax (<ipython-input-14-634b96e856ae>, line 1)",
     "output_type": "error",
     "traceback": [
      "\u001b[0;36m  File \u001b[0;32m\"<ipython-input-14-634b96e856ae>\"\u001b[0;36m, line \u001b[0;32m1\u001b[0m\n\u001b[0;31m    test_accuracy(df, depth):\u001b[0m\n\u001b[0m                             ^\u001b[0m\n\u001b[0;31mSyntaxError\u001b[0m\u001b[0;31m:\u001b[0m invalid syntax\n"
     ]
    }
   ],
   "source": [
    "test_accuracy(df, depth):\n",
    "    answers = df['cardio']\n",
    "    data_learn = df.drop('cardio', axis=1)\n",
    "    data_train, data_test, ans_train, ans_test = train_test_split(data_learn, answers)\n",
    "    model = tree.DecisionTreeClassifier(max_depth=7)\n",
    "    model.fit(data_train, ans_train)\n",
    "    ans_predict = model.predict(data_test)\n",
    "    return accuracy_score(ans_test, ans_predict)"
   ]
  },
  {
   "cell_type": "code",
   "execution_count": null,
   "metadata": {},
   "outputs": [],
   "source": [
    "\n",
    "dot_data = tree.export_graphviz(model, out_file=None) \n",
    "graph = graphviz.Source(dot_data) \n",
    "graph.render(\"iris\")\n",
    "pydot_graph = pydotplus.graph_from_dot_data(dot_data)\n",
    "pydot_graph.write_pdf('tree.pdf')"
   ]
  },
  {
   "cell_type": "code",
   "execution_count": 4,
   "metadata": {},
   "outputs": [
    {
     "ename": "NameError",
     "evalue": "name 'np' is not defined",
     "output_type": "error",
     "traceback": [
      "\u001b[0;31m---------------------------------------------------------------------------\u001b[0m",
      "\u001b[0;31mNameError\u001b[0m                                 Traceback (most recent call last)",
      "\u001b[0;32m<ipython-input-4-f3aa0d110707>\u001b[0m in \u001b[0;36m<module>\u001b[0;34m\u001b[0m\n\u001b[1;32m      2\u001b[0m \u001b[0;32mfrom\u001b[0m \u001b[0msklearn\u001b[0m\u001b[0;34m.\u001b[0m\u001b[0mmodel_selection\u001b[0m \u001b[0;32mimport\u001b[0m \u001b[0mGridSearchCV\u001b[0m\u001b[0;34m\u001b[0m\u001b[0;34m\u001b[0m\u001b[0m\n\u001b[1;32m      3\u001b[0m \u001b[0;34m\u001b[0m\u001b[0m\n\u001b[0;32m----> 4\u001b[0;31m \u001b[0mparam_grid\u001b[0m \u001b[0;34m=\u001b[0m \u001b[0;34m{\u001b[0m\u001b[0;34m\"alpha\"\u001b[0m \u001b[0;34m:\u001b[0m \u001b[0mnp\u001b[0m\u001b[0;34m.\u001b[0m\u001b[0mrange\u001b[0m\u001b[0;34m(\u001b[0m\u001b[0;36m4\u001b[0m\u001b[0;34m)\u001b[0m\u001b[0;34m,\u001b[0m \u001b[0;34m\"beta\"\u001b[0m \u001b[0;34m:\u001b[0m \u001b[0mnp\u001b[0m\u001b[0;34m.\u001b[0m\u001b[0mrange\u001b[0m\u001b[0;34m(\u001b[0m\u001b[0;36m3\u001b[0m\u001b[0;34m)\u001b[0m\u001b[0;34m,\u001b[0m \u001b[0;34m\"gamma\"\u001b[0m \u001b[0;34m:\u001b[0m \u001b[0mnp\u001b[0m\u001b[0;34m.\u001b[0m\u001b[0mrange\u001b[0m\u001b[0;34m(\u001b[0m\u001b[0;36m2\u001b[0m\u001b[0;34m)\u001b[0m\u001b[0;34m}\u001b[0m\u001b[0;34m\u001b[0m\u001b[0;34m\u001b[0m\u001b[0m\n\u001b[0m\u001b[1;32m      5\u001b[0m \u001b[0mgrid\u001b[0m \u001b[0;34m=\u001b[0m \u001b[0mGridSearchCV\u001b[0m\u001b[0;34m(\u001b[0m\u001b[0mDecisionTreeClassifier\u001b[0m\u001b[0;34m(\u001b[0m\u001b[0;34m)\u001b[0m\u001b[0;34m,\u001b[0m \u001b[0mparam_grid\u001b[0m\u001b[0;34m,\u001b[0m \u001b[0mrefit\u001b[0m \u001b[0;34m=\u001b[0m \u001b[0;32mTrue\u001b[0m\u001b[0;34m,\u001b[0m \u001b[0mverbose\u001b[0m \u001b[0;34m=\u001b[0m \u001b[0;36m3\u001b[0m\u001b[0;34m)\u001b[0m\u001b[0;34m\u001b[0m\u001b[0;34m\u001b[0m\u001b[0m\n",
      "\u001b[0;31mNameError\u001b[0m: name 'np' is not defined"
     ]
    }
   ],
   "source": [
    "#adding hyperparameters and checking accuracy again\n",
    "from sklearn.model_selection import GridSearchCV\n",
    "\n",
    "param_grid = {\"alpha\" : np.range(4), \"beta\" : np.range(3), \"gamma\" : np.range(2)}\n",
    "grid = GridSearchCV(DecisionTreeClassifier(), param_grid, refit = True, verbose = 3)"
   ]
  }
 ],
 "metadata": {
  "kernelspec": {
   "display_name": "Python 3",
   "language": "python",
   "name": "python3"
  },
  "language_info": {
   "codemirror_mode": {
    "name": "ipython",
    "version": 3
   },
   "file_extension": ".py",
   "mimetype": "text/x-python",
   "name": "python",
   "nbconvert_exporter": "python",
   "pygments_lexer": "ipython3",
   "version": "3.6.8"
  }
 },
 "nbformat": 4,
 "nbformat_minor": 2
}
